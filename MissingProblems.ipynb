{
 "cells": [
  {
   "cell_type": "code",
   "execution_count": 1,
   "metadata": {},
   "outputs": [],
   "source": [
    "using DataValues, BenchmarkTools, DataFrames"
   ]
  },
  {
   "cell_type": "markdown",
   "metadata": {},
   "source": [
    "# Union{Missing,T} problems\n",
    "\n",
    "This notebook tries to present a concise problem case for the `Union{T,Missing}` story that hits packages like [Query.jl](https://github.com/queryverse/Query.jl). It highlights three distinct issues. I'm not sure that these are the only ones, but I do know that these are quite fundamental for something like [Query.jl](https://github.com/queryverse/Query.jl).\n",
    "\n",
    "I will use `DataFrame` in a couple of places to visualize data, other than that it doesn't play a role here, i.e. I only use it to generate a slightly easier output in the notebook."
   ]
  },
  {
   "cell_type": "markdown",
   "metadata": {},
   "source": [
    "## Source data sets\n",
    "\n",
    "The issue here is about iterators of named tuples with fields that can have missing values. I'm using vectors of these named tuples as the source for the simple example, but any solution would have to work not just for arrays but any iterator of named tuples.\n",
    "\n",
    "The source data has six columns and four rows. I'm using six columns because I think things might be easier for very small column numbers (not sure), so I want to make sure the test case is not too easy."
   ]
  },
  {
   "cell_type": "markdown",
   "metadata": {},
   "source": [
    "The source data that uses `Missing` is this here:"
   ]
  },
  {
   "cell_type": "code",
   "execution_count": 2,
   "metadata": {},
   "outputs": [
    {
     "data": {
      "text/plain": [
       "4-element Array{NamedTuple{(:a, :b, :c, :d, :e, :f),Tuple{Union{Missing, Int64},Union{Missing, Float64},Union{Missing, Int64},Union{Missing, Float64},Union{Missing, Int64},Union{Missing, Float64}}},1}:\n",
       " NamedTuple{(:a, :b, :c, :d, :e, :f),Tuple{Union{Missing, Int64},Union{Missing, Float64},Union{Missing, Int64},Union{Missing, Float64},Union{Missing, Int64},Union{Missing, Float64}}}((1, 2.0, missing, 4.0, missing, 5.0))\n",
       " NamedTuple{(:a, :b, :c, :d, :e, :f),Tuple{Union{Missing, Int64},Union{Missing, Float64},Union{Missing, Int64},Union{Missing, Float64},Union{Missing, Int64},Union{Missing, Float64}}}((missing, 3.0, 3, 4.0, 4, 5.0))      \n",
       " NamedTuple{(:a, :b, :c, :d, :e, :f),Tuple{Union{Missing, Int64},Union{Missing, Float64},Union{Missing, Int64},Union{Missing, Float64},Union{Missing, Int64},Union{Missing, Float64}}}((8, missing, 3, missing, 4, 5.0))    \n",
       " NamedTuple{(:a, :b, :c, :d, :e, :f),Tuple{Union{Missing, Int64},Union{Missing, Float64},Union{Missing, Int64},Union{Missing, Float64},Union{Missing, Int64},Union{Missing, Float64}}}((missing, missing, 3, 4.0, 4, 5.0))  "
      ]
     },
     "execution_count": 2,
     "metadata": {},
     "output_type": "execute_result"
    }
   ],
   "source": [
    "A = NamedTuple{(:a,:b,:c,:d,:e,:f),Tuple{Union{Int,Missing},Union{Float64,Missing},Union{Int,Missing},Union{Float64,Missing},Union{Int,Missing},Union{Float64,Missing}}}[\n",
    "    (a=1,b=2.,c=missing,d=4,e=missing,f=5),\n",
    "    (a=missing, b=3.,c=3,d=4,e=4,f=5),\n",
    "    (a=8, b=missing,c=3,d=missing,e=4,f=5),\n",
    "    (a=missing,b=missing,c=3,d=4,e=4,f=5)\n",
    "]"
   ]
  },
  {
   "cell_type": "markdown",
   "metadata": {},
   "source": [
    "It is probably easier to look at it when it is formatted as a table, I'm using `DataFrame`s for that nicer output:"
   ]
  },
  {
   "cell_type": "code",
   "execution_count": 3,
   "metadata": {},
   "outputs": [
    {
     "data": {
      "text/html": [
       "<table class=\"data-frame\"><thead><tr><th></th><th>a</th><th>b</th><th>c</th><th>d</th><th>e</th><th>f</th></tr><tr><th></th><th>Int64⍰</th><th>Float64⍰</th><th>Int64⍰</th><th>Float64⍰</th><th>Int64⍰</th><th>Float64⍰</th></tr></thead><tbody><p>4 rows × 6 columns</p><tr><th>1</th><td>1</td><td>2.0</td><td>missing</td><td>4.0</td><td>missing</td><td>5.0</td></tr><tr><th>2</th><td>missing</td><td>3.0</td><td>3</td><td>4.0</td><td>4</td><td>5.0</td></tr><tr><th>3</th><td>8</td><td>missing</td><td>3</td><td>missing</td><td>4</td><td>5.0</td></tr><tr><th>4</th><td>missing</td><td>missing</td><td>3</td><td>4.0</td><td>4</td><td>5.0</td></tr></tbody></table>"
      ],
      "text/latex": [
       "\\begin{tabular}{r|cccccc}\n",
       "\t& a & b & c & d & e & f\\\\\n",
       "\t\\hline\n",
       "\t& Int64⍰ & Float64⍰ & Int64⍰ & Float64⍰ & Int64⍰ & Float64⍰\\\\\n",
       "\t\\hline\n",
       "\t1 & 1 & 2.0 &  & 4.0 &  & 5.0 \\\\\n",
       "\t2 &  & 3.0 & 3 & 4.0 & 4 & 5.0 \\\\\n",
       "\t3 & 8 &  & 3 &  & 4 & 5.0 \\\\\n",
       "\t4 &  &  & 3 & 4.0 & 4 & 5.0 \\\\\n",
       "\\end{tabular}\n"
      ],
      "text/plain": [
       "4×6 DataFrame\n",
       "│ Row │ a       │ b        │ c       │ d        │ e       │ f        │\n",
       "│     │ \u001b[90mInt64⍰\u001b[39m  │ \u001b[90mFloat64⍰\u001b[39m │ \u001b[90mInt64⍰\u001b[39m  │ \u001b[90mFloat64⍰\u001b[39m │ \u001b[90mInt64⍰\u001b[39m  │ \u001b[90mFloat64⍰\u001b[39m │\n",
       "├─────┼─────────┼──────────┼─────────┼──────────┼─────────┼──────────┤\n",
       "│ 1   │ 1       │ 2.0      │ \u001b[90mmissing\u001b[39m │ 4.0      │ \u001b[90mmissing\u001b[39m │ 5.0      │\n",
       "│ 2   │ \u001b[90mmissing\u001b[39m │ 3.0      │ 3       │ 4.0      │ 4       │ 5.0      │\n",
       "│ 3   │ 8       │ \u001b[90mmissing\u001b[39m  │ 3       │ \u001b[90mmissing\u001b[39m  │ 4       │ 5.0      │\n",
       "│ 4   │ \u001b[90mmissing\u001b[39m │ \u001b[90mmissing\u001b[39m  │ 3       │ 4.0      │ 4       │ 5.0      │"
      ]
     },
     "execution_count": 3,
     "metadata": {},
     "output_type": "execute_result"
    }
   ],
   "source": [
    "DataFrame(A)"
   ]
  },
  {
   "cell_type": "markdown",
   "metadata": {},
   "source": [
    "The source data for the `DataValue` case is this here:"
   ]
  },
  {
   "cell_type": "code",
   "execution_count": 4,
   "metadata": {},
   "outputs": [
    {
     "data": {
      "text/plain": [
       "4-element Array{NamedTuple{(:a, :b, :c, :d, :e, :f),Tuple{DataValue{Int64},DataValue{Float64},DataValue{Int64},DataValue{Float64},DataValue{Int64},DataValue{Float64}}},1}:\n",
       " (a = DataValue{Int64}(1), b = DataValue{Float64}(2.0), c = DataValue{Int64}(), d = DataValue{Float64}(4.0), e = DataValue{Int64}(), f = DataValue{Float64}(5.0)) \n",
       " (a = DataValue{Int64}(), b = DataValue{Float64}(3.0), c = DataValue{Int64}(3), d = DataValue{Float64}(4.0), e = DataValue{Int64}(4), f = DataValue{Float64}(5.0))\n",
       " (a = DataValue{Int64}(8), b = DataValue{Float64}(), c = DataValue{Int64}(3), d = DataValue{Float64}(), e = DataValue{Int64}(4), f = DataValue{Float64}(5.0))     \n",
       " (a = DataValue{Int64}(), b = DataValue{Float64}(), c = DataValue{Int64}(3), d = DataValue{Float64}(4.0), e = DataValue{Int64}(4), f = DataValue{Float64}(5.0))   "
      ]
     },
     "execution_count": 4,
     "metadata": {},
     "output_type": "execute_result"
    }
   ],
   "source": [
    "B = [\n",
    "    (a=DataValue(1),b=DataValue(2.),c=DataValue{Int}(),d=DataValue(4.),e=DataValue{Int}(),f=DataValue(5.)),\n",
    "    (a=DataValue{Int}(),b=DataValue(3.),c=DataValue(3),d=DataValue(4.),e=DataValue(4),f=DataValue(5.)),\n",
    "    (a=DataValue(8),b=DataValue{Float64}(),c=DataValue(3),d=DataValue{Float64}(),e=DataValue(4),f=DataValue(5.)),\n",
    "    (a=DataValue{Int}(),b=DataValue{Float64}(),c=DataValue(3),d=DataValue(4.),e=DataValue(4),f=DataValue(5.))\n",
    "]"
   ]
  },
  {
   "cell_type": "markdown",
   "metadata": {},
   "source": [
    "Same thing again as a table for easier viewing:"
   ]
  },
  {
   "cell_type": "code",
   "execution_count": 5,
   "metadata": {},
   "outputs": [
    {
     "data": {
      "text/html": [
       "<table class=\"data-frame\"><thead><tr><th></th><th>a</th><th>b</th><th>c</th><th>d</th><th>e</th><th>f</th></tr><tr><th></th><th>Int64⍰</th><th>Float64⍰</th><th>Int64⍰</th><th>Float64⍰</th><th>Int64⍰</th><th>Float64⍰</th></tr></thead><tbody><p>4 rows × 6 columns</p><tr><th>1</th><td>1</td><td>2.0</td><td>missing</td><td>4.0</td><td>missing</td><td>5.0</td></tr><tr><th>2</th><td>missing</td><td>3.0</td><td>3</td><td>4.0</td><td>4</td><td>5.0</td></tr><tr><th>3</th><td>8</td><td>missing</td><td>3</td><td>missing</td><td>4</td><td>5.0</td></tr><tr><th>4</th><td>missing</td><td>missing</td><td>3</td><td>4.0</td><td>4</td><td>5.0</td></tr></tbody></table>"
      ],
      "text/latex": [
       "\\begin{tabular}{r|cccccc}\n",
       "\t& a & b & c & d & e & f\\\\\n",
       "\t\\hline\n",
       "\t& Int64⍰ & Float64⍰ & Int64⍰ & Float64⍰ & Int64⍰ & Float64⍰\\\\\n",
       "\t\\hline\n",
       "\t1 & 1 & 2.0 &  & 4.0 &  & 5.0 \\\\\n",
       "\t2 &  & 3.0 & 3 & 4.0 & 4 & 5.0 \\\\\n",
       "\t3 & 8 &  & 3 &  & 4 & 5.0 \\\\\n",
       "\t4 &  &  & 3 & 4.0 & 4 & 5.0 \\\\\n",
       "\\end{tabular}\n"
      ],
      "text/plain": [
       "4×6 DataFrame\n",
       "│ Row │ a       │ b        │ c       │ d        │ e       │ f        │\n",
       "│     │ \u001b[90mInt64⍰\u001b[39m  │ \u001b[90mFloat64⍰\u001b[39m │ \u001b[90mInt64⍰\u001b[39m  │ \u001b[90mFloat64⍰\u001b[39m │ \u001b[90mInt64⍰\u001b[39m  │ \u001b[90mFloat64⍰\u001b[39m │\n",
       "├─────┼─────────┼──────────┼─────────┼──────────┼─────────┼──────────┤\n",
       "│ 1   │ 1       │ 2.0      │ \u001b[90mmissing\u001b[39m │ 4.0      │ \u001b[90mmissing\u001b[39m │ 5.0      │\n",
       "│ 2   │ \u001b[90mmissing\u001b[39m │ 3.0      │ 3       │ 4.0      │ 4       │ 5.0      │\n",
       "│ 3   │ 8       │ \u001b[90mmissing\u001b[39m  │ 3       │ \u001b[90mmissing\u001b[39m  │ 4       │ 5.0      │\n",
       "│ 4   │ \u001b[90mmissing\u001b[39m │ \u001b[90mmissing\u001b[39m  │ 3       │ 4.0      │ 4       │ 5.0      │"
      ]
     },
     "execution_count": 5,
     "metadata": {},
     "output_type": "execute_result"
    }
   ],
   "source": [
    "DataFrame(B)"
   ]
  },
  {
   "cell_type": "markdown",
   "metadata": {},
   "source": [
    "## First order problem: performance"
   ]
  },
  {
   "cell_type": "markdown",
   "metadata": {},
   "source": [
    "The first test we are running is a simple projection over this that rearranges columns. The code for the `Missing` and `DataValue` case is the same:"
   ]
  },
  {
   "cell_type": "code",
   "execution_count": 6,
   "metadata": {},
   "outputs": [
    {
     "data": {
      "text/plain": [
       "4-element Array{NamedTuple{(:b, :c, :d, :e, :f, :a),T} where T<:Tuple,1}:\n",
       " (b = 2.0, c = missing, d = 4.0, e = missing, f = 5.0, a = 1)\n",
       " (b = 3.0, c = 3, d = 4.0, e = 4, f = 5.0, a = missing)      \n",
       " (b = missing, c = 3, d = missing, e = 4, f = 5.0, a = 8)    \n",
       " (b = missing, c = 3, d = 4.0, e = 4, f = 5.0, a = missing)  "
      ]
     },
     "execution_count": 6,
     "metadata": {},
     "output_type": "execute_result"
    }
   ],
   "source": [
    "A2 = ((b=i.b,c=i.c,d=i.d,e=i.e,f=i.f,a=i.a) for i in A) |> collect"
   ]
  },
  {
   "cell_type": "code",
   "execution_count": 7,
   "metadata": {},
   "outputs": [
    {
     "data": {
      "text/plain": [
       "4-element Array{NamedTuple{(:b, :c, :d, :e, :f, :a),Tuple{DataValue{Float64},DataValue{Int64},DataValue{Float64},DataValue{Int64},DataValue{Float64},DataValue{Int64}}},1}:\n",
       " (b = DataValue{Float64}(2.0), c = DataValue{Int64}(), d = DataValue{Float64}(4.0), e = DataValue{Int64}(), f = DataValue{Float64}(5.0), a = DataValue{Int64}(1)) \n",
       " (b = DataValue{Float64}(3.0), c = DataValue{Int64}(3), d = DataValue{Float64}(4.0), e = DataValue{Int64}(4), f = DataValue{Float64}(5.0), a = DataValue{Int64}())\n",
       " (b = DataValue{Float64}(), c = DataValue{Int64}(3), d = DataValue{Float64}(), e = DataValue{Int64}(4), f = DataValue{Float64}(5.0), a = DataValue{Int64}(8))     \n",
       " (b = DataValue{Float64}(), c = DataValue{Int64}(3), d = DataValue{Float64}(4.0), e = DataValue{Int64}(4), f = DataValue{Float64}(5.0), a = DataValue{Int64}())   "
      ]
     },
     "execution_count": 7,
     "metadata": {},
     "output_type": "execute_result"
    }
   ],
   "source": [
    "B2 = ((b=i.b,c=i.c,d=i.d,e=i.e,f=i.f,a=i.a) for i in B) |> collect"
   ]
  },
  {
   "cell_type": "markdown",
   "metadata": {},
   "source": [
    "Now lets benchmark these:"
   ]
  },
  {
   "cell_type": "code",
   "execution_count": 8,
   "metadata": {},
   "outputs": [
    {
     "data": {
      "text/plain": [
       "BenchmarkTools.Trial: \n",
       "  memory estimate:  1.13 KiB\n",
       "  allocs estimate:  26\n",
       "  --------------\n",
       "  minimum time:     2.975 μs (0.00% GC)\n",
       "  median time:      3.288 μs (0.00% GC)\n",
       "  mean time:        4.432 μs (18.14% GC)\n",
       "  maximum time:     5.559 ms (99.88% GC)\n",
       "  --------------\n",
       "  samples:          10000\n",
       "  evals/sample:     8"
      ]
     },
     "execution_count": 8,
     "metadata": {},
     "output_type": "execute_result"
    }
   ],
   "source": [
    "@benchmark ((b=i.b,c=i.c,d=i.d,e=i.e,f=i.f,a=i.a) for i in A) |> collect"
   ]
  },
  {
   "cell_type": "code",
   "execution_count": 9,
   "metadata": {},
   "outputs": [
    {
     "data": {
      "text/plain": [
       "BenchmarkTools.Trial: \n",
       "  memory estimate:  512 bytes\n",
       "  allocs estimate:  2\n",
       "  --------------\n",
       "  minimum time:     105.471 ns (0.00% GC)\n",
       "  median time:      108.262 ns (0.00% GC)\n",
       "  mean time:        133.352 ns (11.17% GC)\n",
       "  maximum time:     46.822 μs (99.69% GC)\n",
       "  --------------\n",
       "  samples:          10000\n",
       "  evals/sample:     932"
      ]
     },
     "execution_count": 9,
     "metadata": {},
     "output_type": "execute_result"
    }
   ],
   "source": [
    "@benchmark ((b=i.b,c=i.c,d=i.d,e=i.e,f=i.f,a=i.a) for i in B) |> collect"
   ]
  },
  {
   "cell_type": "markdown",
   "metadata": {},
   "source": [
    "The problem here is simple: the `Missing` case is more than an order of magnitude slower."
   ]
  },
  {
   "cell_type": "markdown",
   "metadata": {},
   "source": [
    "## Second order problem 1: sink array type is not great"
   ]
  },
  {
   "cell_type": "markdown",
   "metadata": {},
   "source": [
    "If we look at the type of the vector that we generated for the two cases, we see this for the `Missing` case:"
   ]
  },
  {
   "cell_type": "code",
   "execution_count": 10,
   "metadata": {},
   "outputs": [
    {
     "data": {
      "text/plain": [
       "4-element Array{NamedTuple{(:b, :c, :d, :e, :f, :a),T} where T<:Tuple,1}:\n",
       " (b = 2.0, c = missing, d = 4.0, e = missing, f = 5.0, a = 1)\n",
       " (b = 3.0, c = 3, d = 4.0, e = 4, f = 5.0, a = missing)      \n",
       " (b = missing, c = 3, d = missing, e = 4, f = 5.0, a = 8)    \n",
       " (b = missing, c = 3, d = 4.0, e = 4, f = 5.0, a = missing)  "
      ]
     },
     "execution_count": 10,
     "metadata": {},
     "output_type": "execute_result"
    }
   ],
   "source": [
    "A2"
   ]
  },
  {
   "cell_type": "markdown",
   "metadata": {},
   "source": [
    "And this for the `DataValue` case:"
   ]
  },
  {
   "cell_type": "code",
   "execution_count": 11,
   "metadata": {},
   "outputs": [
    {
     "data": {
      "text/plain": [
       "4-element Array{NamedTuple{(:b, :c, :d, :e, :f, :a),Tuple{DataValue{Float64},DataValue{Int64},DataValue{Float64},DataValue{Int64},DataValue{Float64},DataValue{Int64}}},1}:\n",
       " (b = DataValue{Float64}(2.0), c = DataValue{Int64}(), d = DataValue{Float64}(4.0), e = DataValue{Int64}(), f = DataValue{Float64}(5.0), a = DataValue{Int64}(1)) \n",
       " (b = DataValue{Float64}(3.0), c = DataValue{Int64}(3), d = DataValue{Float64}(4.0), e = DataValue{Int64}(4), f = DataValue{Float64}(5.0), a = DataValue{Int64}())\n",
       " (b = DataValue{Float64}(), c = DataValue{Int64}(3), d = DataValue{Float64}(), e = DataValue{Int64}(4), f = DataValue{Float64}(5.0), a = DataValue{Int64}(8))     \n",
       " (b = DataValue{Float64}(), c = DataValue{Int64}(3), d = DataValue{Float64}(4.0), e = DataValue{Int64}(4), f = DataValue{Float64}(5.0), a = DataValue{Int64}())   "
      ]
     },
     "execution_count": 11,
     "metadata": {},
     "output_type": "execute_result"
    }
   ],
   "source": [
    "B2"
   ]
  },
  {
   "cell_type": "markdown",
   "metadata": {},
   "source": [
    "The problem here is that the element type of `A2` (the `Missing` case) is not concrete, so individual elements in this array are boxed and stored on the heap, which is not good. For the `DataValue` case `B2` the element type is concrete and so we should be getting a much better array layout in memory."
   ]
  },
  {
   "cell_type": "markdown",
   "metadata": {},
   "source": [
    "## Second order problem 2: all information about the potential missingnes of column `f` is lost"
   ]
  },
  {
   "cell_type": "markdown",
   "metadata": {},
   "source": [
    "If we look at column `f` in the output for the `Missing` case (`A2`), there is no way to recover the information that column `f` can actually hold missing values. If we look at the element types of each row, we see this:"
   ]
  },
  {
   "cell_type": "code",
   "execution_count": 12,
   "metadata": {},
   "outputs": [
    {
     "data": {
      "text/plain": [
       "4-element Array{DataType,1}:\n",
       " NamedTuple{(:b, :c, :d, :e, :f, :a),Tuple{Float64,Missing,Float64,Missing,Float64,Int64}}\n",
       " NamedTuple{(:b, :c, :d, :e, :f, :a),Tuple{Float64,Int64,Float64,Int64,Float64,Missing}}  \n",
       " NamedTuple{(:b, :c, :d, :e, :f, :a),Tuple{Missing,Int64,Missing,Int64,Float64,Int64}}    \n",
       " NamedTuple{(:b, :c, :d, :e, :f, :a),Tuple{Missing,Int64,Float64,Int64,Float64,Missing}}  "
      ]
     },
     "execution_count": 12,
     "metadata": {},
     "output_type": "execute_result"
    }
   ],
   "source": [
    "[typeof(i) for i in A2]"
   ]
  },
  {
   "cell_type": "markdown",
   "metadata": {},
   "source": [
    "So from that we can't recover the info that `f` could have held a missing value, and from the type of the entire array of course also not:"
   ]
  },
  {
   "cell_type": "code",
   "execution_count": 13,
   "metadata": {},
   "outputs": [
    {
     "data": {
      "text/plain": [
       "Array{NamedTuple{(:b, :c, :d, :e, :f, :a),T} where T<:Tuple,1}"
      ]
     },
     "execution_count": 13,
     "metadata": {},
     "output_type": "execute_result"
    }
   ],
   "source": [
    "typeof(A2)"
   ]
  },
  {
   "cell_type": "markdown",
   "metadata": {},
   "source": [
    "This information is simply entirely gone and lost!"
   ]
  },
  {
   "cell_type": "markdown",
   "metadata": {},
   "source": [
    "For the `DataValue` case `B2` that is not so, just looking at the array we can see that `f` is a column that could have held missing values:"
   ]
  },
  {
   "cell_type": "code",
   "execution_count": 14,
   "metadata": {},
   "outputs": [
    {
     "data": {
      "text/plain": [
       "Array{NamedTuple{(:b, :c, :d, :e, :f, :a),Tuple{DataValue{Float64},DataValue{Int64},DataValue{Float64},DataValue{Int64},DataValue{Float64},DataValue{Int64}}},1}"
      ]
     },
     "execution_count": 14,
     "metadata": {},
     "output_type": "execute_result"
    }
   ],
   "source": [
    "typeof(B2)"
   ]
  },
  {
   "cell_type": "markdown",
   "metadata": {},
   "source": [
    "So if we for example pipe the result into a `DataFrame`, we get what we want, namely that the column `f` can have missing values:"
   ]
  },
  {
   "cell_type": "code",
   "execution_count": 15,
   "metadata": {},
   "outputs": [
    {
     "data": {
      "text/html": [
       "<table class=\"data-frame\"><thead><tr><th></th><th>b</th><th>c</th><th>d</th><th>e</th><th>f</th><th>a</th></tr><tr><th></th><th>Float64⍰</th><th>Int64⍰</th><th>Float64⍰</th><th>Int64⍰</th><th>Float64⍰</th><th>Int64⍰</th></tr></thead><tbody><p>4 rows × 6 columns</p><tr><th>1</th><td>2.0</td><td>missing</td><td>4.0</td><td>missing</td><td>5.0</td><td>1</td></tr><tr><th>2</th><td>3.0</td><td>3</td><td>4.0</td><td>4</td><td>5.0</td><td>missing</td></tr><tr><th>3</th><td>missing</td><td>3</td><td>missing</td><td>4</td><td>5.0</td><td>8</td></tr><tr><th>4</th><td>missing</td><td>3</td><td>4.0</td><td>4</td><td>5.0</td><td>missing</td></tr></tbody></table>"
      ],
      "text/latex": [
       "\\begin{tabular}{r|cccccc}\n",
       "\t& b & c & d & e & f & a\\\\\n",
       "\t\\hline\n",
       "\t& Float64⍰ & Int64⍰ & Float64⍰ & Int64⍰ & Float64⍰ & Int64⍰\\\\\n",
       "\t\\hline\n",
       "\t1 & 2.0 &  & 4.0 &  & 5.0 & 1 \\\\\n",
       "\t2 & 3.0 & 3 & 4.0 & 4 & 5.0 &  \\\\\n",
       "\t3 &  & 3 &  & 4 & 5.0 & 8 \\\\\n",
       "\t4 &  & 3 & 4.0 & 4 & 5.0 &  \\\\\n",
       "\\end{tabular}\n"
      ],
      "text/plain": [
       "4×6 DataFrame\n",
       "│ Row │ b        │ c       │ d        │ e       │ f        │ a       │\n",
       "│     │ \u001b[90mFloat64⍰\u001b[39m │ \u001b[90mInt64⍰\u001b[39m  │ \u001b[90mFloat64⍰\u001b[39m │ \u001b[90mInt64⍰\u001b[39m  │ \u001b[90mFloat64⍰\u001b[39m │ \u001b[90mInt64⍰\u001b[39m  │\n",
       "├─────┼──────────┼─────────┼──────────┼─────────┼──────────┼─────────┤\n",
       "│ 1   │ 2.0      │ \u001b[90mmissing\u001b[39m │ 4.0      │ \u001b[90mmissing\u001b[39m │ 5.0      │ 1       │\n",
       "│ 2   │ 3.0      │ 3       │ 4.0      │ 4       │ 5.0      │ \u001b[90mmissing\u001b[39m │\n",
       "│ 3   │ \u001b[90mmissing\u001b[39m  │ 3       │ \u001b[90mmissing\u001b[39m  │ 4       │ 5.0      │ 8       │\n",
       "│ 4   │ \u001b[90mmissing\u001b[39m  │ 3       │ 4.0      │ 4       │ 5.0      │ \u001b[90mmissing\u001b[39m │"
      ]
     },
     "execution_count": 15,
     "metadata": {},
     "output_type": "execute_result"
    }
   ],
   "source": [
    "DataFrame(B2)"
   ]
  },
  {
   "cell_type": "markdown",
   "metadata": {},
   "source": [
    "(I'm not showing the same conversion of `A2` to a `DataFrame` because all columns just have the `Any` type there).\n",
    "\n",
    "One question now is whether this potential missingness information should propagate through this projection, if there are actually no mising values in the `f` column in the source data. My main argument why it should is that a) that is what SQL does, and b) I think there is a strong analogy with say different number types. Assume we have a table with one column of type `Float64`:"
   ]
  },
  {
   "cell_type": "code",
   "execution_count": 16,
   "metadata": {},
   "outputs": [
    {
     "data": {
      "text/plain": [
       "3-element Array{NamedTuple{(:a,),Tuple{Float64}},1}:\n",
       " (a = 4.0,)\n",
       " (a = 5.0,)\n",
       " (a = 8.0,)"
      ]
     },
     "execution_count": 16,
     "metadata": {},
     "output_type": "execute_result"
    }
   ],
   "source": [
    "C = [(a=4.,), (a=5.,), (a=8.,)]"
   ]
  },
  {
   "cell_type": "markdown",
   "metadata": {},
   "source": [
    "If we run a generator over that"
   ]
  },
  {
   "cell_type": "code",
   "execution_count": 17,
   "metadata": {},
   "outputs": [
    {
     "data": {
      "text/plain": [
       "3-element Array{NamedTuple{(:a,),Tuple{Float64}},1}:\n",
       " (a = 4.0,)\n",
       " (a = 5.0,)\n",
       " (a = 8.0,)"
      ]
     },
     "execution_count": 17,
     "metadata": {},
     "output_type": "execute_result"
    }
   ],
   "source": [
    "((a=i.a,) for i in C) |> collect"
   ]
  },
  {
   "cell_type": "markdown",
   "metadata": {},
   "source": [
    "we wouldn't want the fields here to become `Int`s, even though all the values that we have in the source data are of course integers. I think in the same way we would want potential missinginess to propagate: even if a source doesn't have any missing values in a column, but the column is of a type that could hold missing values, that property should propagate through."
   ]
  }
 ],
 "metadata": {
  "kernelspec": {
   "display_name": "Julia 1.1.0",
   "language": "julia",
   "name": "julia-1.1"
  },
  "language_info": {
   "file_extension": ".jl",
   "mimetype": "application/julia",
   "name": "julia",
   "version": "1.1.0"
  }
 },
 "nbformat": 4,
 "nbformat_minor": 2
}
